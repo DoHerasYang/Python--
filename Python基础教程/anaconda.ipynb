{
 "cells": [
  {
   "cell_type": "markdown",
   "id": "4cb42b79",
   "metadata": {},
   "source": [
    "# CCAB Intern Anaconda 实验内容\n",
    "\n",
    "<br>\n",
    "\n",
    "<img src=\"https://img.sj33.cn/uploads/202011/7-201109153Z1336.jpg\" width = \"300\" height = \"200\" alt=\"图片名称\" align=center />\n",
    "\n",
    "<br>"
   ]
  },
  {
   "cell_type": "markdown",
   "id": "c5b16fa7",
   "metadata": {},
   "source": [
    "# Jupyter Notebook 的 Cell Type\n",
    "\n",
    "在 Jupyter Notebook 中，你必须分清什么是 Markdown 类型的cell 和 什么是 Code 类型的Cell，在当前的cell 就是 Markdown 类型Cell，因此可以支持插入相关的数学公式，下边就是一个相关的例子，在之后我会将所有的指导内容- 要求 以 Markdown 的形式展现在 Jupyter Notebook 文件中，请适应使用 Markdown 来撰写问题的说明以及 使用 Jupyter Notebook 来运行、调试你的Python代码；\n",
    "\n",
    "下边是一个在 Markdown 中\n",
    "\n",
    "$$ \\left \\lbrace \\sum_{i=0}^n i^2 = \\frac{(n^2+n)(2n+1)}{6} \\right\\rbrace \\tag{1.2} $$\n",
    "\n",
    "\n",
    "<br>\n",
    "\n",
    "这里有许多链接可以帮助你更好地来学习Anaconda，希望你可以学习愉快:\n",
    "\n",
    "+ [[译] 给初学者的 Jupyter Notebook 教程](https://zhuanlan.zhihu.com/p/36858283)\n",
    "+ [Jupyter Notebook介绍、安装及使用教程](https://zhuanlan.zhihu.com/p/33105153)\n",
    "+ [真是绝了！史上最详细的Jupyter Notebook入门教程](https://cloud.tencent.com/developer/article/1091924)\n",
    "\n",
    "<br>\n",
    "<br>\n",
    "<br>\n",
    "\n",
    "在本文档中，需要你自己去完成的相关内容是以： $TODO$   --- 开头的相关指示以及回答相关问题；\n",
    "\n",
    "要求：\n",
    "\n",
    "+ 代码问题请使用code cell 来进行回答；\n",
    "+ 文本问题请适应Markdown cell 来进行回答；\n",
    "+ 请保存你的相关运行结果在Jupyter Notebook 上；"
   ]
  },
  {
   "cell_type": "markdown",
   "id": "961efcf7",
   "metadata": {},
   "source": [
    "# 1. 熟悉一下Jupyter Notebook 的运行相关 python 以及 包管理 的命令\n",
    "\n",
    "<br>"
   ]
  },
  {
   "cell_type": "markdown",
   "id": "b8f036a3",
   "metadata": {},
   "source": [
    "## 1.1 检查当前 Python 的运行版本"
   ]
  },
  {
   "cell_type": "code",
   "execution_count": null,
   "id": "a6f66d6c",
   "metadata": {},
   "outputs": [],
   "source": [
    "import sys\n",
    "print(sys.version)\n",
    "print('\\n')\n",
    "print(sys.prefix)\n",
    "print('\\n')"
   ]
  },
  {
   "cell_type": "code",
   "execution_count": null,
   "id": "70d7a1b7",
   "metadata": {},
   "outputs": [],
   "source": [
    "import platform\n",
    "print(platform.python_version())"
   ]
  },
  {
   "cell_type": "code",
   "execution_count": null,
   "id": "801c0d96",
   "metadata": {},
   "outputs": [],
   "source": [
    "print(\"The Python version is %s.%s.%s\" % sys.version_info[:3])"
   ]
  },
  {
   "cell_type": "markdown",
   "id": "118c0345",
   "metadata": {},
   "source": [
    "## 1.2 检查当前运行的 Anaconda / Jupyter Notebook 信息"
   ]
  },
  {
   "cell_type": "code",
   "execution_count": null,
   "id": "c3f9fd65",
   "metadata": {},
   "outputs": [],
   "source": [
    "# 用于打印当前的 conda 相关信息\n",
    "!conda info --env"
   ]
  },
  {
   "cell_type": "code",
   "execution_count": null,
   "id": "b24fda91",
   "metadata": {},
   "outputs": [],
   "source": [
    "# 查看当前所有jupyter支持的kernel\n",
    "!jupyter kernelspec list"
   ]
  },
  {
   "cell_type": "code",
   "execution_count": null,
   "id": "8bed7ce9",
   "metadata": {},
   "outputs": [],
   "source": [
    "# 查看当前的env环境\n",
    "# 在这里我打印的是我自己的 auto_demo env 环境的相关库信息\n",
    "!conda list -n auto_demo"
   ]
  },
  {
   "cell_type": "code",
   "execution_count": null,
   "id": "b0936a43",
   "metadata": {},
   "outputs": [],
   "source": [
    "# TODO:\n",
    "# 现在需要你指定你刚刚创建 SummerTrain 的 env 环境，然后打印出相关的包的信息\n",
    "# 请编写对应的命令并执行，请注意最后需要保存对应的结果；\n",
    "\n"
   ]
  },
  {
   "cell_type": "markdown",
   "id": "48c2e4e1",
   "metadata": {},
   "source": [
    "$TODO$:\n",
    "\n",
    "+ 请思考并回答问题：\n",
    "    + 1. conda / jupyter 命令前为什么需要一个 \"!\"，如果不增加这个符号会导致什么问题？\n",
    "    + 2. 如何判断当前的cell类型是 Markdown 或者 Python 代码类型？怎么更改当前的 cell Type？\n",
    "    \n",
    "<br>"
   ]
  },
  {
   "cell_type": "code",
   "execution_count": null,
   "id": "a5807ffb",
   "metadata": {},
   "outputs": [],
   "source": []
  },
  {
   "cell_type": "markdown",
   "id": "35a6b8a2",
   "metadata": {},
   "source": [
    "\n",
    "## 1.3 在 Jupyter Notebook 中可以通过相关的命令可以直接安装库到环境当中\n",
    "\n",
    "现在我们需要通过 Jupyter Notebook 来安装 seaborn 库，如何在 Jupyter Notebook 上安装 Python第三方库的方法请参考链接：\n",
    "\n",
    "+ [Installing Python Packages from a Jupyter Notebook](https://huangweiran.club/2018/05/14/%E7%BF%BB%E8%AF%91%EF%BC%9A%E5%A6%82%E4%BD%95%E5%9C%A8Jupyter-notebook%E4%B8%AD%E5%AE%89%E8%A3%85Python%E5%8C%85%EF%BC%9F/index.html)\n",
    "\n",
    "\n",
    "在后边继续进行的相关学习可能不会用到这个库，可以通过下边的例子来展示 Jupyter Notebook 的强大之处，即可以在文件内部运行相关代码也可以将图片动态地显示在文件中；\n",
    "\n",
    "在大数据时代，数据挖掘的工作越来越重要，而从数据中提取出来有吸引力的图表更是一件非常重要的事情。而除了Matplotlib，基于其开发的Seaborn在数据可视化方面功能也非常强大。相比于Matplotlib来说，Seaborn提供更高层次的API，可以让你在不需要了解那么多底层参数的情况下，同样能够画出比较有吸引力的图表;"
   ]
  },
  {
   "cell_type": "code",
   "execution_count": null,
   "id": "aa45017e",
   "metadata": {
    "scrolled": true
   },
   "outputs": [],
   "source": [
    "# Anaconda 有很多命令可以去使用，对于一个你并不熟悉的命令，你可以尝试去打印相关的帮助信息，下边的命令在这里可以打印相关的帮助信息\n",
    "!conda -h"
   ]
  },
  {
   "cell_type": "markdown",
   "id": "a80bfbb7",
   "metadata": {},
   "source": [
    "$TODO$:\n",
    "\n",
    "+ 在上边已经打印了相关的帮助信息，请尝试使用 Anaconda 的 Search 命令来搜索关于 pandas 开源库的相关版本类型，并打印出来；"
   ]
  },
  {
   "cell_type": "code",
   "execution_count": null,
   "id": "fbe3d8bb",
   "metadata": {},
   "outputs": [],
   "source": [
    "!conda search pandas"
   ]
  },
  {
   "cell_type": "code",
   "execution_count": null,
   "id": "9d6a515f",
   "metadata": {
    "scrolled": true
   },
   "outputs": [],
   "source": [
    "# 现在我们需要通过 Jupyter Notebook 来安装 seaborn 库，\n",
    "# 在后边可能不会用到这个库，但是需要你去了解一下怎么使用\n",
    "!conda install --yes --prefix {sys.prefix} seaborn numpy matplotlib scikit-learn scipy"
   ]
  },
  {
   "cell_type": "code",
   "execution_count": null,
   "id": "3fb25a9b",
   "metadata": {},
   "outputs": [],
   "source": [
    "import numpy as np\n",
    "import seaborn as sns\n",
    "import matplotlib.pyplot as plt\n",
    "\n",
    "def sinplot(flip=1):\n",
    "    x = np.linspace(0, 14, 100)\n",
    "    for i in range(1, 7):\n",
    "        plt.plot(x, np.sin(x + i * .5) * (7 - i) * flip)\n",
    "sinplot()\n",
    "# 对两种画图进行比较\n",
    "fig = plt.figure()\n",
    "sns.set()\n",
    "sinplot()"
   ]
  },
  {
   "cell_type": "markdown",
   "id": "e5166a1a",
   "metadata": {},
   "source": [
    "$ToDo$:\n",
    "\n",
    "+ Anaconda 中可以指定 相关库的版本，请自行查找相关资料并在你创建的 SummerTrain 的 env 环境中安装 pandas 库并指定相关的版本是:1.2.5\n"
   ]
  },
  {
   "cell_type": "code",
   "execution_count": null,
   "id": "339af3b4",
   "metadata": {},
   "outputs": [],
   "source": []
  },
  {
   "cell_type": "markdown",
   "id": "8359821d",
   "metadata": {},
   "source": [
    "$ToDo$:\n",
    "\n",
    "+ 请检查刚刚安装的 pandas 版本是否是： 1.2.5； 打印在文档中；"
   ]
  }
 ],
 "metadata": {
  "kernelspec": {
   "display_name": "auto_demo",
   "language": "python",
   "name": "auto_demo"
  },
  "language_info": {
   "codemirror_mode": {
    "name": "ipython",
    "version": 3
   },
   "file_extension": ".py",
   "mimetype": "text/x-python",
   "name": "python",
   "nbconvert_exporter": "python",
   "pygments_lexer": "ipython3",
   "version": "3.7.10"
  }
 },
 "nbformat": 4,
 "nbformat_minor": 5
}
