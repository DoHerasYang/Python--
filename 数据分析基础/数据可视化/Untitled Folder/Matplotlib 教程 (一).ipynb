{
 "cells": [
  {
   "cell_type": "markdown",
   "id": "68d23662",
   "metadata": {},
   "source": [
    "# Matplotlib 教程 (一)\n",
    "\n",
    "## 目录\n",
    "\n",
    "* [1.前言](#1.前言)\n",
    "* [2.Matplotlib 的相关属性以及数据结构](#2.-Matplotlib-的相关属性以及数据结构)"
   ]
  },
  {
   "cell_type": "markdown",
   "id": "9a91a028",
   "metadata": {},
   "source": [
    "## 1.前言\n",
    "\n",
    "<img src=\"https://matplotlib.org/_static/logo2_compressed.svg\" width = \"350\" height = \"200\" alt=\"图片名称\" align=center />\n",
    "\n",
    "在 Python 可视化中，比较著名的开源模块库(Module)是 Matplotlib 和 Seaborn，使用这两个库可以完成绝大多数的数据可视化任务，掌握数据可视化不仅仅是顺应当前大数据时代的要求，更可以在平常的工作中使用数据可视化提升我们制作报表、报告的能力，也许你会觉得使用 Excel 表格也可以完成数据可视化的任务，**那么为什么要用这么复杂的办法来画图呢**？\n",
    "\n",
    "对于一个熟练经常使用Excel的技术人员来说，使用Excel是非常方便的，但是Excel带来的问题也非常显著，就是大量、重复机械的工作占据了日常工作的大多数时间，对于一个Excel文件也许使用其自带的功能来画图还OK，但是10个文件呢？100个文件呢？1000个文件呢？如果涉及到文件内容的拼接怎么办呢？这时候必须要考虑使用自动化的方法来处理大量的文件和完成重复的工作，这时候 **Python** 就非常重要了；\n",
    "\n",
    "Python 提供了处理Excel文件的模块库 - Pandas，数据可视化库 - Matplotlib 和 Seaborn，提供了面向流程和面向对象的方式，帮助你通过编写一次代码就可以处理许多重复、繁琐的工作内容；\n",
    "\n",
    "Python 真的可以为你节省大量的时间以及重复工作，所谓人生苦短我用Python；\n",
    "\n",
    "OK...\n",
    "\n",
    "其实这么多年使用 Matplotlib，前段时间自己在处理一些问题的时候发现自己对于 Matplotlib 的一些编程问题了解的不够透彻，所接触和完成的数据可视化任务都是为了完成而完成，对于其中的一些问题并没有真的去了解和认真分析，因此我想是时候静下心来总结和撰写关于 Matplotlib 教程，撰写教程和相关博客是一件非常酷的事情；\n",
    "\n",
    "**希望看到这篇教程的你请提出宝贵的意见或者指出不清楚、不清晰、你不能理解的地方，我会尽快解答、并更新教程**；\n",
    "\n",
    "Enjoy this tour!\n",
    "\n",
    "完成本教程需要具有以下的相关知识储备：\n",
    "\n",
    "+ 对于 Python 有一定的编程基础，对于常见的 Python 语法、数据结构有一定的了解；\n",
    "+ 对 Pandas、Numpy 等开源数据处理模块的用法有一定的了解；\n",
    "\n",
    "<br>\n",
    "\n",
    "**Matplotlib Version: 3.3.4**\n",
    "\n",
    "<br>"
   ]
  },
  {
   "cell_type": "code",
   "execution_count": 1,
   "id": "eff22e20",
   "metadata": {},
   "outputs": [
    {
     "data": {
      "text/plain": [
       "'3.3.4'"
      ]
     },
     "execution_count": 1,
     "metadata": {},
     "output_type": "execute_result"
    }
   ],
   "source": [
    "import matplotlib\n",
    "matplotlib.__version__"
   ]
  },
  {
   "cell_type": "markdown",
   "id": "89ed92a5",
   "metadata": {},
   "source": [
    "## 2. Matplotlib 的相关属性以及数据结构\n",
    "\n",
    "### 2.1 Matplotlib 的画布\n",
    "\n",
    "Matplotlib 的所有图像都是画在画布(figure)上的，因此如果你想要画出一副图像，首先必须要创建画布，画布是一个对象，因此如果你想要画出一副通过函数： `matplotlib.pyplot.figure` 函数来进行创建；\n",
    "\n",
    "`matplotlib.pyplot.figure()`:\n",
    "\n",
    "+ `num`: 指定一个特殊的数字来指明该图像是独一无二的，用来区分不同的图像，你可以使用这个参数来指定你新创建的图像，如果图像是新创建的，那么这个参数可以为空，系统会自动指定一个数字来区分新建的图片； 如果这个参数已经被指定，那么会返回对应的指定数字代表的图像；\n",
    "+ `figsize`: 指定图像的大小，图像的单位为：英寸(inch)；\n",
    "+ `dpi`: 指定图像的分辨率，默认的分辨率为：100；\n",
    "+ `facecolor`: 指定背景的颜色， 默认为： white - 白色；\n",
    "+ `edgecolor`: 指定边框的颜色，默认为： white - 白色；\n",
    "+ `frameon`: Bool 类型值，默认为：False，即关闭图像压缩，如果设置为：True 图片的像素将会被压缩；\n",
    "+ `linewidth`： Float 指定边框线条的宽度；\n",
    "+ `subplotpars`： 指定多个子图时的相关参数, 默认为：`rcParams[\"figure.subplot.*\"]`;\n",
    "+ `tight_layout`: Bool or Dict，默认的参数为：`rcParams[\"figure.autolayout\"]`/ False，用来调整图片的大小，来适应子图的边框大小;\n",
    "+ `constrained_layout`: Bool，默认参数为：False，如果参数为 `True`，那么就会使用受约束(constrained)的布局来调整绘图元素的位置，相比于 `tight_layout`的参数，这个参数会更加宽松；\n",
    "\n",
    "<br>\n",
    "\n",
    "返回的对象是：`matplotlib.figure.Figure`"
   ]
  },
  {
   "cell_type": "code",
   "execution_count": 2,
   "id": "e57183fa",
   "metadata": {},
   "outputs": [
    {
     "name": "stdout",
     "output_type": "stream",
     "text": [
      "1\n"
     ]
    },
    {
     "data": {
      "text/plain": [
       "<Figure size 216x216 with 0 Axes>"
      ]
     },
     "metadata": {},
     "output_type": "display_data"
    }
   ],
   "source": [
    "# 下边就来举几个例子，来使用\n",
    "import matplotlib.pyplot as plt\n",
    "fig = plt.figure(figsize=(3,3))\n",
    "# 即我们在没有设定 num 参数的时候，自动被指定一个参数值\n",
    "print(fig.number)"
   ]
  }
 ],
 "metadata": {
  "kernelspec": {
   "display_name": "auto_demo",
   "language": "python",
   "name": "auto_demo"
  },
  "language_info": {
   "codemirror_mode": {
    "name": "ipython",
    "version": 3
   },
   "file_extension": ".py",
   "mimetype": "text/x-python",
   "name": "python",
   "nbconvert_exporter": "python",
   "pygments_lexer": "ipython3",
   "version": "3.7.10"
  }
 },
 "nbformat": 4,
 "nbformat_minor": 5
}
