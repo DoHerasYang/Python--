{
 "cells": [
  {
   "cell_type": "markdown",
   "id": "692186f0",
   "metadata": {},
   "source": [
    "# 关联度模型的构建方法 - 基于 Python 实现\n",
    "\n",
    "<br>\n",
    "\n",
    "在本文件中，会详细介绍目前比较主流的关联算法（也被称为<u>购物篮分析</u>），关联算法现在作为比较活跃的算法，被广泛使用在大型互联网公司、金融公司作为推荐算法的基础算法，因此了解本算法对于进行数据分析和相关建模也是非常关键的。\n",
    "\n",
    "关联规则的**相关应用场景**如下：\n",
    "\n",
    "+ 对于一个餐饮企业来说，了解客户在点餐时候可以根据顾客自身的饮食习惯、菜品的相关荤素口味、菜品之间的相互关联，菜品之间的对立或者竞争关系来进行菜品的推荐，从而提升顾客来到餐厅的点菜体验； 在这些数据发掘的领域可以快速识别客户的口味偏好，引导顾客进行消费，提高整体餐厅的效益；\n",
    "\n",
    "+ 另外一个相关的领域就是：广告推荐，用户对什么样的内容和物品感兴趣，通过相关的挖掘信息提供对应的广告来刺激其消费的欲望，从而提升企业的相关营收；\n",
    "\n",
    "\n",
    "该算法的**相关目的**是：<u>在以一个数据集当中找出各种之间的关联关系，而这种关联关系没有在数据中直接体现出来；</u>\n",
    "\n",
    "<br>\n",
    "\n",
    "了解本文你必须具备的知识储备：\n",
    "\n",
    "+ 了解概率论的基础知识：基础概率密度含义、联合概率密度、贝叶斯概率模型等；"
   ]
  },
  {
   "cell_type": "markdown",
   "id": "47bd87c2",
   "metadata": {},
   "source": [
    "下表展现了常见的关联规则算法，其中最重要的是： <u> Apriori 算法 </u>\n",
    "\n",
    "<br>\n",
    "\n",
    "| 算法名称   | 算法描述                                                     |\n",
    "| :---------- | :------------------------------------------------------------ |\n",
    "| Apriori    | 最经典的关联规则算法，采用多次扫面事务数据集的相关方法挖掘频繁项集，其核心思想是通过连接产生候选项极其相关支持度(support)，然后最后通过剪枝生成频繁项集。 |\n",
    "| FP-Tree    | 针对Apriori的算法固有的多次扫面事务数据集的缺陷，提出的不产生候选频繁项集的方法，Apriori和FP-Tree都是寻找频繁项集的算法。 |\n",
    "| Eclat算法  | Eclat算法是一种深度优先算法，采用垂直数据表示形式，在概念格理论的基础上利用基于前缀的等价关系将搜索空间划分为较少的字空间。 |\n",
    "| 灰色关联法 | 分析和确定各因素之间的影响程度或者若干个字因素对主因素的贡献度进行一种分析方法 |\n",
    "\n",
    "\n"
   ]
  },
  {
   "cell_type": "markdown",
   "id": "fc6cb1eb",
   "metadata": {},
   "source": [
    "## 目录 - 数据建模(时序模型)\n",
    "\n",
    "* [0.Apriori算法](#0.-Apriori算法)\n",
    "    * [0.1 Apriori算法背景知识](#0.1-Apriori算法背景知识)"
   ]
  },
  {
   "cell_type": "markdown",
   "id": "12dae599",
   "metadata": {},
   "source": [
    "## 0. Apriori算法\n",
    "\n",
    "### 0.1 Apriori算法相关背景知识\n",
    "\n"
   ]
  },
  {
   "cell_type": "code",
   "execution_count": null,
   "id": "61d43692",
   "metadata": {},
   "outputs": [],
   "source": []
  },
  {
   "cell_type": "code",
   "execution_count": null,
   "id": "92bc89b9",
   "metadata": {},
   "outputs": [],
   "source": [
    "import pandas as pd"
   ]
  },
  {
   "cell_type": "code",
   "execution_count": null,
   "id": "407b326d",
   "metadata": {},
   "outputs": [],
   "source": []
  }
 ],
 "metadata": {
  "kernelspec": {
   "display_name": "Python 3",
   "language": "python",
   "name": "python3"
  },
  "language_info": {
   "codemirror_mode": {
    "name": "ipython",
    "version": 3
   },
   "file_extension": ".py",
   "mimetype": "text/x-python",
   "name": "python",
   "nbconvert_exporter": "python",
   "pygments_lexer": "ipython3",
   "version": "3.8.8"
  }
 },
 "nbformat": 4,
 "nbformat_minor": 5
}
